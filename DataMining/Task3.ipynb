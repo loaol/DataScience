{
 "cells": [
  {
   "cell_type": "markdown",
   "metadata": {},
   "source": [
    "# 数据挖掘-预测贷款用户是否逾期\n",
    "## Task3：模型构建（2天）"
   ]
  },
  {
   "cell_type": "markdown",
   "metadata": {},
   "source": [
    "------\n",
    "### 1&emsp;划分数据集\n"
   ]
  },
  {
   "cell_type": "markdown",
   "metadata": {},
   "source": [
    " - 导入宏包"
   ]
  },
  {
   "cell_type": "code",
   "execution_count": 1,
   "metadata": {},
   "outputs": [],
   "source": [
    "import numpy as np\n",
    "import pandas as pd\n",
    "import seaborn as sns\n",
    "import matplotlib.pyplot as plt\n",
    "\n",
    "import warnings\n",
    "warnings.filterwarnings('ignore')\n",
    "\n",
    "import matplotlib as mpl\n",
    "mpl.rcParams['font.sans-serif']=[u'SimHei']\n",
    "mpl.rcParams['axes.unicode_minus']=False\n",
    "\n",
    "pd.set_option('display.max_rows', 100)\n",
    "pd.set_option('display.max_column', 100)\n",
    "pd.set_option('display.max_colwidth', 50)\n",
    "pd.set_option('display.float_format',lambda x : '%.5f' % x)"
   ]
  },
  {
   "cell_type": "markdown",
   "metadata": {},
   "source": [
    " - 导入数据"
   ]
  },
  {
   "cell_type": "code",
   "execution_count": 57,
   "metadata": {},
   "outputs": [],
   "source": [
    "data = pd.read_csv('./data/data_clean.csv', encoding='gbk')"
   ]
  },
  {
   "cell_type": "markdown",
   "metadata": {},
   "source": [
    " - 下采样"
   ]
  },
  {
   "cell_type": "code",
   "execution_count": 58,
   "metadata": {
    "scrolled": true
   },
   "outputs": [],
   "source": [
    "dfstatus0 = data[data.status == 0]\n",
    "dfstatus1 = data[data.status == 1]\n",
    "dfstatus0 = dfstatus0.sample(n=data.status.value_counts()[1], replace=True, random_state=2018)\n",
    "newdata = pd.concat([dfstatus0, dfstatus1], ignore_index=False)\n",
    "newdata.sort_index(inplace=True)\n",
    "newdata = newdata.reset_index(drop=True)"
   ]
  },
  {
   "cell_type": "markdown",
   "metadata": {},
   "source": [
    " - 重构数据集"
   ]
  },
  {
   "cell_type": "code",
   "execution_count": 59,
   "metadata": {},
   "outputs": [
    {
     "data": {
      "text/plain": [
       "2226"
      ]
     },
     "execution_count": 59,
     "metadata": {},
     "output_type": "execute_result"
    }
   ],
   "source": [
    "Y = newdata['status']\n",
    "X = newdata.drop(['status'], axis=1)\n",
    "Y.shape[0]"
   ]
  },
  {
   "cell_type": "markdown",
   "metadata": {},
   "source": [
    " - 划分数据集"
   ]
  },
  {
   "cell_type": "code",
   "execution_count": 71,
   "metadata": {},
   "outputs": [],
   "source": [
    "from sklearn.model_selection import train_test_split\n",
    "\n",
    "x_train, x_test, y_train, y_test = train_test_split(X, Y, test_size=0.3, random_state=2018)"
   ]
  },
  {
   "cell_type": "markdown",
   "metadata": {},
   "source": [
    "------\n",
    "### 2&emsp;模型构建\n",
    "#### 2.1 P-R曲线"
   ]
  },
  {
   "cell_type": "markdown",
   "metadata": {},
   "source": [
    " - 生成 P-R 曲线函数"
   ]
  },
  {
   "cell_type": "code",
   "execution_count": 74,
   "metadata": {},
   "outputs": [],
   "source": [
    "def PR_curve(d):\n",
    "    t = np.sum(d[:, 3])\n",
    "    f = d.shape[0] - t\n",
    "\n",
    "    TP = 1\n",
    "    FP = 0\n",
    "    FN = t - 1\n",
    "\n",
    "    P = [1]\n",
    "    R = [1 / t]\n",
    "    l = [1 - 1 / t]\n",
    "\n",
    "    for i in range(1, d.shape[0]):\n",
    "        if d[i, 3] == 1:\n",
    "            TP = TP + 1\n",
    "            FP = FP + 0\n",
    "            FN = FN - 1\n",
    "\n",
    "        if d[i, 3] == 0:\n",
    "            TP = TP + 0\n",
    "            FP = FP + 1\n",
    "            FN = FN + 0\n",
    "\n",
    "        P.append(TP / (TP + FP))\n",
    "        R.append(TP / (TP + FN))\n",
    "        l.append(np.abs(P[i] - R[i]))\n",
    "\n",
    "    plt.figure()\n",
    "    plt.plot(R, P)\n",
    "    x = np.linspace(0, 1)\n",
    "    y = np.linspace(0, 1)\n",
    "    plt.plot(x, y)\n",
    "    l_min = l.index(min(l))\n",
    "    plt.plot(P[l_min], R[l_min], 'ro')\n",
    "    print(\"BEC = {:.3f}\".format(P[l_min]))\n",
    "    print(\"F1 = {:.3f}\".format(2 * P[l_min] * R[l_min] / (P[l_min] + R[l_min])))"
   ]
  },
  {
   "cell_type": "markdown",
   "metadata": {},
   "source": [
    " - 模型训练"
   ]
  },
  {
   "cell_type": "markdown",
   "metadata": {},
   "source": [
    "逻辑回归"
   ]
  },
  {
   "cell_type": "code",
   "execution_count": 75,
   "metadata": {},
   "outputs": [
    {
     "name": "stdout",
     "output_type": "stream",
     "text": [
      "Test set score = 0.669\n",
      "BEC = 0.658\n",
      "F1 = 0.658\n"
     ]
    },
    {
     "data": {
      "image/png": "[encoded data removed]",
      "text/plain": [
       "<Figure size 432x288 with 1 Axes>"
      ]
     },
     "metadata": {
      "needs_background": "light"
     },
     "output_type": "display_data"
    }
   ],
   "source": [
    "from sklearn.linear_model import LogisticRegression\n",
    "LR = LogisticRegression()\n",
    "LR.fit(x_train, y_train)\n",
    "y_proba = LR.predict_proba(x_test)\n",
    "y_predi = LR.predict(x_test)\n",
    "d = np.vstack((y_proba.T[0].T, y_proba.T[1].T, y_predi, y_test.T)).T\n",
    "d = d[d[:,0].argsort()]\n",
    "print(\"Test set score = {:.3f}\".format(LR.score(x_test, y_test)))\n",
    "PR_curve(d)"
   ]
  },
  {
   "cell_type": "markdown",
   "metadata": {},
   "source": [
    "支持向量机"
   ]
  },
  {
   "cell_type": "code",
   "execution_count": 83,
   "metadata": {
    "scrolled": true
   },
   "outputs": [
    {
     "name": "stdout",
     "output_type": "stream",
     "text": [
      "Test set score = 0.591\n",
      "BEC = 0.578\n",
      "F1 = 0.578\n"
     ]
    },
    {
     "data": {
      "image/png": "[encoded data removed]",
      "text/plain": [
       "<Figure size 432x288 with 1 Axes>"
      ]
     },
     "metadata": {
      "needs_background": "light"
     },
     "output_type": "display_data"
    }
   ],
   "source": [
    "from sklearn import svm\n",
    "SVM = svm.SVC(probability=True)\n",
    "SVM.fit(x_train, y_train)\n",
    "y_proba = SVM.predict_proba(x_test)\n",
    "y_predi = SVM.predict(x_test)\n",
    "d = np.vstack((y_proba.T[0].T, y_proba.T[1].T, y_predi, y_test.T)).T\n",
    "d = d[d[:,0].argsort()]\n",
    "print(\"Test set score = {:.3f}\".format(SVM.score(x_test, y_test)))\n",
    "PR_curve(d)"
   ]
  },
  {
   "cell_type": "markdown",
   "metadata": {},
   "source": [
    " - 决策树"
   ]
  },
  {
   "cell_type": "code",
   "execution_count": 82,
   "metadata": {},
   "outputs": [
    {
     "name": "stdout",
     "output_type": "stream",
     "text": [
      "Test set score = 0.627\n",
      "BEC = 0.596\n",
      "F1 = 0.596\n"
     ]
    },
    {
     "data": {
      "image/png": "[encoded data removed]",
      "text/plain": [
       "<Figure size 432x288 with 1 Axes>"
      ]
     },
     "metadata": {
      "needs_background": "light"
     },
     "output_type": "display_data"
    }
   ],
   "source": [
    "from sklearn import tree\n",
    "DTC = tree.DecisionTreeClassifier()\n",
    "DTC.fit(x_train, y_train)\n",
    "y_proba = DTC.predict_proba(x_test)\n",
    "y_predi = DTC.predict(x_test)\n",
    "d = np.vstack((y_proba.T[0].T, y_proba.T[1].T, y_predi, y_test.T)).T\n",
    "d = d[d[:,0].argsort()]\n",
    "print(\"Test set score = {:.3f}\".format(DTC.score(x_test, y_test)))\n",
    "PR_curve(d)"
   ]
  },
  {
   "cell_type": "markdown",
   "metadata": {},
   "source": [
    "#### 2.2 ROC曲线"
   ]
  },
  {
   "cell_type": "markdown",
   "metadata": {},
   "source": [
    " - 生成 ROC 曲线函数"
   ]
  },
  {
   "cell_type": "code",
   "execution_count": 86,
   "metadata": {},
   "outputs": [],
   "source": [
    "def ROC_curve(d):\n",
    "    t = np.sum(d[:,3])\n",
    "    f = d.shape[0] - t\n",
    "\n",
    "    TP = 1\n",
    "    TN = f\n",
    "    FP = 0\n",
    "    FN = t-1\n",
    "    \n",
    "\n",
    "    TPR = [1/t]\n",
    "    FPR = [0]\n",
    "    AUC = 0\n",
    "\n",
    "    for i in range(1, d.shape[0]):\n",
    "        if d[i,3] == 1:\n",
    "            TP = TP+1\n",
    "            FN = FN-1\n",
    "\n",
    "        if d[i,3] == 0:\n",
    "            FP = FP+1\n",
    "            TN = TN-1\n",
    "\n",
    "        TPR.append(TP/(TP+FN))\n",
    "        FPR.append(FP/(TN+FP))\n",
    "        AUC = AUC+0.5*((FPR[i]-FPR[i-1])*(TPR[i]+TPR[i-1]))\n",
    "    \n",
    "    plt.figure()\n",
    "    plt.plot(FPR,TPR)\n",
    "    x = np.linspace(0,1)\n",
    "    y = np.linspace(0,1)\n",
    "    plt.plot(x, y, '--')\n",
    "    \n",
    "    print(\"AUC = {:.3f}\".format(AUC))"
   ]
  },
  {
   "cell_type": "markdown",
   "metadata": {},
   "source": [
    " - 模型训练"
   ]
  },
  {
   "cell_type": "markdown",
   "metadata": {},
   "source": [
    "随机森林"
   ]
  },
  {
   "cell_type": "code",
   "execution_count": 87,
   "metadata": {},
   "outputs": [
    {
     "name": "stdout",
     "output_type": "stream",
     "text": [
      "Test set score = 0.687\n",
      "AUC = 0.764\n"
     ]
    },
    {
     "data": {
      "image/png": "[encoded data removed]",
      "text/plain": [
       "<Figure size 432x288 with 1 Axes>"
      ]
     },
     "metadata": {
      "needs_background": "light"
     },
     "output_type": "display_data"
    }
   ],
   "source": [
    "from sklearn.ensemble import RandomForestClassifier\n",
    "RFC = RandomForestClassifier()\n",
    "RFC.fit(x_train, y_train)\n",
    "y_proba = RFC.predict_proba(x_test)\n",
    "y_predi = RFC.predict(x_test)\n",
    "d = np.vstack((y_proba.T[0].T, y_proba.T[1].T, y_predi, y_test.T)).T\n",
    "d = d[d[:,0].argsort()]\n",
    "print(\"Test set score = {:.3f}\".format(RFC.score(x_test, y_test)))\n",
    "ROC_curve(d)"
   ]
  },
  {
   "cell_type": "markdown",
   "metadata": {},
   "source": [
    "XGBoost"
   ]
  },
  {
   "cell_type": "code",
   "execution_count": 88,
   "metadata": {},
   "outputs": [
    {
     "name": "stdout",
     "output_type": "stream",
     "text": [
      "Test set score = 0.710\n",
      "AUC = 0.794\n"
     ]
    },
    {
     "data": {
      "image/png": "[encoded data removed]",
      "text/plain": [
       "<Figure size 432x288 with 1 Axes>"
      ]
     },
     "metadata": {
      "needs_background": "light"
     },
     "output_type": "display_data"
    }
   ],
   "source": [
    "from xgboost import XGBClassifier\n",
    "XGB = XGBClassifier()\n",
    "XGB.fit(x_train, y_train)\n",
    "y_proba = XGB.predict_proba(x_test)\n",
    "y_predi = XGB.predict(x_test)\n",
    "d = np.vstack((y_proba.T[0].T, y_proba.T[1].T, y_predi, y_test.T)).T\n",
    "d = d[d[:,0].argsort()]\n",
    "print(\"Test set score = {:.3f}\".format(XGB.score(x_test, y_test)))\n",
    "ROC_curve(d)"
   ]
  }
 ],
 "metadata": {
  "kernelspec": {
   "display_name": "Python 3",
   "language": "python",
   "name": "python3"
  },
  "language_info": {
   "codemirror_mode": {
    "name": "ipython",
    "version": 3
   },
   "file_extension": ".py",
   "mimetype": "text/x-python",
   "name": "python",
   "nbconvert_exporter": "python",
   "pygments_lexer": "ipython3",
   "version": "3.7.3"
  }
 },
 "nbformat": 4,
 "nbformat_minor": 2
}
