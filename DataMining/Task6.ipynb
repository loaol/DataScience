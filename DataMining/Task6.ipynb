{
 "cells": [
  {
   "cell_type": "markdown",
   "metadata": {},
   "source": [
    "# 数据挖掘-预测贷款用户是否逾期\n",
    "## Task6：模型融合（2天）"
   ]
  },
  {
   "cell_type": "markdown",
   "metadata": {},
   "source": [
    "------\n",
    "### 1&emsp;划分数据集"
   ]
  },
  {
   "cell_type": "markdown",
   "metadata": {},
   "source": [
    " - 导入宏包"
   ]
  },
  {
   "cell_type": "code",
   "execution_count": 1,
   "metadata": {},
   "outputs": [],
   "source": [
    "import numpy as np\n",
    "import pandas as pd\n",
    "import seaborn as sns\n",
    "import matplotlib.pyplot as plt\n",
    "\n",
    "from scipy.stats import randint as sp_randint\n",
    "from sklearn.model_selection import GridSearchCV\n",
    "from sklearn.model_selection import RandomizedSearchCV\n",
    "\n",
    "import warnings\n",
    "warnings.filterwarnings('ignore')\n",
    "\n",
    "import matplotlib as mpl\n",
    "mpl.rcParams['font.sans-serif']=[u'SimHei']\n",
    "mpl.rcParams['axes.unicode_minus']=False\n",
    "\n",
    "pd.set_option('display.max_rows', 100)\n",
    "pd.set_option('display.max_column', 100)\n",
    "pd.set_option('display.max_colwidth', 50)\n",
    "pd.set_option('display.float_format',lambda x : '%.5f' % x)"
   ]
  },
  {
   "cell_type": "markdown",
   "metadata": {},
   "source": [
    " - 导入数据"
   ]
  },
  {
   "cell_type": "code",
   "execution_count": 2,
   "metadata": {},
   "outputs": [],
   "source": [
    "data = pd.read_csv('./data/data_clean.csv', encoding='gbk')\n",
    "Y = data['status']\n",
    "X = data.drop(['status'], axis=1)"
   ]
  },
  {
   "cell_type": "markdown",
   "metadata": {},
   "source": [
    " - 归一化"
   ]
  },
  {
   "cell_type": "code",
   "execution_count": 3,
   "metadata": {},
   "outputs": [],
   "source": [
    "from sklearn.preprocessing import MinMaxScaler\n",
    "scaler = MinMaxScaler()\n",
    "X = scaler.fit_transform(X)"
   ]
  },
  {
   "cell_type": "markdown",
   "metadata": {},
   "source": [
    " - 划分数据集"
   ]
  },
  {
   "cell_type": "code",
   "execution_count": 4,
   "metadata": {},
   "outputs": [],
   "source": [
    "from sklearn.model_selection import train_test_split\n",
    "x_train, x_test, y_train, y_test = train_test_split(X, Y, test_size=0.3, random_state=2018)"
   ]
  },
  {
   "cell_type": "markdown",
   "metadata": {},
   "source": [
    " - SMOTE 上采样"
   ]
  },
  {
   "cell_type": "code",
   "execution_count": 5,
   "metadata": {},
   "outputs": [
    {
     "name": "stderr",
     "output_type": "stream",
     "text": [
      "Using TensorFlow backend.\n"
     ]
    }
   ],
   "source": [
    "from imblearn.over_sampling import SMOTE\n",
    "x_train_smote, y_train_smote = SMOTE(random_state=2018).fit_sample(x_train, y_train)"
   ]
  },
  {
   "cell_type": "markdown",
   "metadata": {},
   "source": [
    "-------\n",
    "### 2&emsp;模型融合"
   ]
  },
  {
   "cell_type": "markdown",
   "metadata": {},
   "source": [
    "&emsp;模型融合采用 Stacking 方法\n",
    "\n",
    "&emsp;依据 Task5 提取 XGBClassifier、LGBMClassifier、RFClassifier 作为基模型\n",
    "\n",
    "&emsp;采用 LogisticRegressionCV 作为次模型"
   ]
  },
  {
   "cell_type": "markdown",
   "metadata": {},
   "source": [
    "#### 2.1 模型调参\n",
    "\n",
    "&emsp;现对所有基模型进行调超参优化"
   ]
  },
  {
   "cell_type": "markdown",
   "metadata": {},
   "source": [
    " - XGBClassifier"
   ]
  },
  {
   "cell_type": "code",
   "execution_count": 7,
   "metadata": {},
   "outputs": [
    {
     "name": "stdout",
     "output_type": "stream",
     "text": [
      "Test set score: 0.774\n"
     ]
    }
   ],
   "source": [
    "from xgboost import XGBClassifier\n",
    "parameters = {'max_depth': [3, 4, 5, 6, 7, 8],\n",
    "              'subsample': [0.5, 0.6, 0.7, 0.8, 0.9, 1.0],\n",
    "              'colsample_bytree': [0.5, 0.6, 0.7, 0.8, 0.9, 1.0],\n",
    "              'learning_rate': [0.01, 0.1, 0.2],\n",
    "              'min_child_weight': [1, 2, 3],\n",
    "              }\n",
    "n_iter_search = 20\n",
    "RS = RandomizedSearchCV(XGBClassifier(random_state=2018), parameters, n_iter=n_iter_search, cv=5, iid=False, scoring='roc_auc')\n",
    "RS.fit(x_train_smote, y_train_smote)\n",
    "\n",
    "XGB=RS.best_estimator_\n",
    "print('Test set score: {:.3f}'.format(RS.score(x_test,y_test)))"
   ]
  },
  {
   "cell_type": "markdown",
   "metadata": {},
   "source": [
    " - LGBMClassifier"
   ]
  },
  {
   "cell_type": "code",
   "execution_count": 8,
   "metadata": {},
   "outputs": [
    {
     "name": "stdout",
     "output_type": "stream",
     "text": [
      "Test set score: 0.780\n"
     ]
    }
   ],
   "source": [
    "from lightgbm import LGBMClassifier\n",
    "parameters = {'max_depth': [15, 20, 25, 30, 35],\n",
    "              'learning_rate': [0.01, 0.02, 0.05, 0.1, 0.15],\n",
    "              'feature_fraction': [0.6, 0.7, 0.8, 0.9, 0.95],\n",
    "              'bagging_fraction': [0.6, 0.7, 0.8, 0.9, 0.95],\n",
    "              'bagging_freq': [2, 4, 5, 6, 8],\n",
    "              'lambda_l1': [0, 0.1, 0.4, 0.5, 0.6],\n",
    "              'lambda_l2': [0, 10, 15, 35, 40],\n",
    "              'cat_smooth': [1, 10, 15, 20, 35],\n",
    "              }\n",
    "n_iter_search = 20\n",
    "RS = RandomizedSearchCV(LGBMClassifier(random_state=2018), parameters, n_iter=n_iter_search, cv=5, iid=False, scoring='roc_auc')\n",
    "RS.fit(x_train_smote, y_train_smote)\n",
    "\n",
    "LGBM = RS.best_estimator_\n",
    "print('Test set score: {:.3f}'.format(RS.score(x_test,y_test)))"
   ]
  },
  {
   "cell_type": "markdown",
   "metadata": {},
   "source": [
    " - RFClassifier"
   ]
  },
  {
   "cell_type": "code",
   "execution_count": 9,
   "metadata": {},
   "outputs": [
    {
     "name": "stdout",
     "output_type": "stream",
     "text": [
      "Test set score: 0.778\n"
     ]
    }
   ],
   "source": [
    "from sklearn.ensemble import RandomForestClassifier\n",
    "parameters = {'max_depth': [3, 4, 5, 6, 7],\n",
    "              'max_features': sp_randint(1, 11),\n",
    "              'min_samples_split': sp_randint(2, 11),\n",
    "              'bootstrap': [True, False],\n",
    "              'criterion': ['gini', 'entropy']\n",
    "              }\n",
    "n_iter_search = 20\n",
    "RS = RandomizedSearchCV(RandomForestClassifier(random_state=2018), parameters, n_iter=n_iter_search, cv=5, iid=False, scoring='roc_auc')\n",
    "RS.fit(x_train_smote, y_train_smote)\n",
    "RF = RS.best_estimator_\n",
    "print('Test set score: {:.3f}'.format(RS.score(x_test,y_test)))"
   ]
  },
  {
   "cell_type": "markdown",
   "metadata": {},
   "source": [
    " - LogisticRegressionCV"
   ]
  },
  {
   "cell_type": "code",
   "execution_count": 10,
   "metadata": {},
   "outputs": [],
   "source": [
    "from sklearn.linear_model import LogisticRegressionCV\n",
    "LR = LogisticRegressionCV(class_weight='balanced', cv=5, max_iter=1000)"
   ]
  },
  {
   "cell_type": "markdown",
   "metadata": {},
   "source": [
    "#### 2.2 模型融合"
   ]
  },
  {
   "cell_type": "markdown",
   "metadata": {},
   "source": [
    " - Stacking"
   ]
  },
  {
   "cell_type": "code",
   "execution_count": 18,
   "metadata": {},
   "outputs": [],
   "source": [
    "from mlxtend.classifier import StackingCVClassifier\n",
    "StackingModel = StackingCVClassifier(classifiers=[XGB, LGBM, RF],\n",
    "                                   use_probas=True, \n",
    "                                   meta_classifier=LR,\n",
    "                                   cv=5,\n",
    "                                   )"
   ]
  },
  {
   "cell_type": "markdown",
   "metadata": {},
   "source": [
    " - 模型评价"
   ]
  },
  {
   "cell_type": "markdown",
   "metadata": {},
   "source": [
    "生成评价指标函数"
   ]
  },
  {
   "cell_type": "code",
   "execution_count": 19,
   "metadata": {},
   "outputs": [],
   "source": [
    "from sklearn import metrics\n",
    "def Eva(clf, x_test, y_test):\n",
    "    y_predic = clf.predict(x_test)\n",
    "    y_proba = clf.predict_proba(x_test)\n",
    "\n",
    "    acc = metrics.accuracy_score(y_test, y_predic)\n",
    "    p = metrics.precision_score(y_test, y_predic)\n",
    "    r = metrics.recall_score(y_test, y_predic)\n",
    "    f1 = metrics.f1_score(y_test, y_predic)\n",
    "    fpr, tpr, thresholds = metrics.roc_curve(y_test, y_proba[:, 1])\n",
    "    auc = metrics.auc(fpr, tpr)\n",
    "    return acc, p, r, f1, fpr, tpr, auc"
   ]
  },
  {
   "cell_type": "markdown",
   "metadata": {},
   "source": [
    "生成绘图函数"
   ]
  },
  {
   "cell_type": "code",
   "execution_count": 20,
   "metadata": {},
   "outputs": [],
   "source": [
    "def plot_roc(fprs, tprs, aucs, title):\n",
    "    plt.figure()\n",
    "    lw = 2\n",
    "    for i, name in enumerate(models):\n",
    "        plt.plot(fprs[i], tprs[i], lw=lw, label='{0} (AUC:{1:0.2f})'.format(name, aucs[i]))\n",
    "    plt.plot([0, 1], [0, 1], color='navy', lw=lw, linestyle='--')\n",
    "    plt.xlim([0.0, 1.0])\n",
    "    plt.ylim([0.0, 1.05])\n",
    "    plt.xlabel('False Positive Rate')\n",
    "    plt.ylabel('True Positive Rate')\n",
    "    plt.title('Receiver operating characteristic of '+title)\n",
    "    plt.legend(loc=\"lower right\")\n",
    "    plt.show()"
   ]
  },
  {
   "cell_type": "markdown",
   "metadata": {},
   "source": [
    " - 模型结果"
   ]
  },
  {
   "cell_type": "code",
   "execution_count": 21,
   "metadata": {},
   "outputs": [
    {
     "name": "stdout",
     "output_type": "stream",
     "text": [
      "           Model dataset  Accuracy  Precision  Recall  F1 score     AUC\n",
      "0             LR   train   0.76453    0.51643 0.71990   0.60142 0.82224\n",
      "1             LR    test   0.72570    0.48380 0.64183   0.55172 0.76500\n",
      "2             RF   train   0.87565    0.74389 0.75654   0.75016 0.92441\n",
      "3             RF    test   0.75885    0.54407 0.51289   0.52802 0.77801\n",
      "4            XGB   train   0.99806    1.00000 0.99215   0.99606 0.99994\n",
      "5            XGB    test   0.77845    0.61803 0.41261   0.49485 0.77383\n",
      "6           LGBM   train   0.99612    0.99344 0.99084   0.99214 0.99909\n",
      "7           LGBM    test   0.77694    0.61778 0.39828   0.48432 0.78034\n",
      "8  StackingModel   train   0.99742    0.99606 0.99346   0.99476 0.99987\n",
      "9  StackingModel    test   0.78674    0.64474 0.42120   0.50953 0.79101\n"
     ]
    },
    {
     "data": {
      "image/png": "[encoded data removed]",
      "text/plain": [
       "<Figure size 432x288 with 1 Axes>"
      ]
     },
     "metadata": {
      "needs_background": "light"
     },
     "output_type": "display_data"
    },
    {
     "data": {
      "image/png": "[encoded data removed]",
      "text/plain": [
       "<Figure size 432x288 with 1 Axes>"
      ]
     },
     "metadata": {
      "needs_background": "light"
     },
     "output_type": "display_data"
    }
   ],
   "source": [
    "models = {'LR': LR,\n",
    "          'RF': RF,\n",
    "          'XGB': XGB,\n",
    "          'LGBM': LGBM,\n",
    "          'StackingModel': StackingModel}\n",
    "\n",
    "df_result = pd.DataFrame(columns=('Model', 'dataset', 'Accuracy', 'Precision', 'Recall', 'F1 score', 'AUC'))\n",
    "row = 0\n",
    "fprs_train = []\n",
    "tprs_train = []\n",
    "aucs_train = []\n",
    "fprs_test = []\n",
    "tprs_test = []\n",
    "aucs_test = []\n",
    "\n",
    "for name, clf in models.items():\n",
    "    clf.fit(x_train_smote, y_train_smote)\n",
    "    acc, p, r, f1, fpr_train, tpr_train, auc_train = Eva(clf, x_train, y_train)\n",
    "    fprs_train.append(fpr_train)\n",
    "    tprs_train.append(tpr_train)\n",
    "    aucs_train.append(auc_train)\n",
    "    df_result.loc[row] = [name, 'train', acc, p, r, f1, auc_train]\n",
    "    row += 1\n",
    "\n",
    "    acc, p, r, f1, fpr_test, tpr_test, auc_test = Eva(clf, x_test, y_test)\n",
    "    fprs_test.append(fpr_test)\n",
    "    tprs_test.append(tpr_test)\n",
    "    aucs_test.append(auc_test)\n",
    "    df_result.loc[row] = [name, 'test', acc, p, r, f1, auc_test]\n",
    "    row += 1\n",
    "\n",
    "print(df_result)\n",
    "\n",
    "plot_roc(fprs_train, tprs_train, aucs_train, 'train')\n",
    "plot_roc(fprs_test, tprs_test, aucs_test, 'test')"
   ]
  }
 ],
 "metadata": {
  "kernelspec": {
   "display_name": "Python 3",
   "language": "python",
   "name": "python3"
  },
  "language_info": {
   "codemirror_mode": {
    "name": "ipython",
    "version": 3
   },
   "file_extension": ".py",
   "mimetype": "text/x-python",
   "name": "python",
   "nbconvert_exporter": "python",
   "pygments_lexer": "ipython3",
   "version": "3.7.3"
  }
 },
 "nbformat": 4,
 "nbformat_minor": 2
}
