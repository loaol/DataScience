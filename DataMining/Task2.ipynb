{
 "cells": [
  {
   "cell_type": "markdown",
   "metadata": {},
   "source": [
    "# 数据挖掘-预测贷款用户是否逾期\n",
    "## Task2：特征工程（2天）"
   ]
  },
  {
   "cell_type": "markdown",
   "metadata": {},
   "source": [
    "------\n",
    "### 1&emsp;数据预处理\n",
    "\n",
    "&emsp;&emsp;Task1 中数据分析也属于数据预处理的一部分，但 Task1 主要是 **对数据的整体感知以及简单的数据清洗。**\n",
    "\n",
    "&emsp;&emsp;这里数据预处理的工作主要是 **分别对单个特征进行逐一分析。**"
   ]
  },
  {
   "cell_type": "markdown",
   "metadata": {},
   "source": [
    " - 导入宏包"
   ]
  },
  {
   "cell_type": "code",
   "execution_count": 13,
   "metadata": {},
   "outputs": [],
   "source": [
    "import numpy as np\n",
    "import pandas as pd\n",
    "import seaborn as sns\n",
    "import matplotlib.pyplot as plt\n",
    "\n",
    "import warnings\n",
    "warnings.filterwarnings('ignore')\n",
    "\n",
    "import matplotlib as mpl\n",
    "mpl.rcParams['font.sans-serif']=[u'SimHei']\n",
    "mpl.rcParams['axes.unicode_minus']=False"
   ]
  },
  {
   "cell_type": "markdown",
   "metadata": {},
   "source": [
    " - 导入数据"
   ]
  },
  {
   "cell_type": "code",
   "execution_count": 14,
   "metadata": {},
   "outputs": [
    {
     "name": "stdout",
     "output_type": "stream",
     "text": [
      " 1、low_volume_percent                            The number of types of features is：39\n",
      " 2、middle_volume_percent                         The number of types of features is：90\n",
      " 3、take_amount_in_later_12_month_highest         The number of types of features is：163\n",
      " 4、trans_amount_increase_rate_lately             The number of types of features is：755\n",
      " 5、trans_activity_month                          The number of types of features is：84\n",
      " 6、trans_activity_day                            The number of types of features is：502\n",
      " 7、transd_mcc                                    The number of types of features is：41\n",
      " 8、trans_days_interval_filter                    The number of types of features is：145\n",
      " 9、trans_days_interval                           The number of types of features is：110\n",
      "10、regional_mobility                             The number of types of features is：5\n",
      "11、student_feature                               The number of types of features is：2\n",
      "12、repayment_capability                          The number of types of features is：2313\n",
      "13、is_high_user                                  The number of types of features is：2\n",
      "14、number_of_trans_from_2011                     The number of types of features is：67\n",
      "15、first_transaction_time                        The number of types of features is：1655\n",
      "16、historical_trans_amount                       The number of types of features is：4231\n",
      "17、historical_trans_day                          The number of types of features is：470\n",
      "18、rank_trad_1_month                             The number of types of features is：20\n",
      "19、trans_amount_3_month                          The number of types of features is：3357\n",
      "20、avg_consume_less_12_valid_month               The number of types of features is：12\n",
      "21、abs                                           The number of types of features is：1639\n",
      "22、top_trans_count_last_1_month                  The number of types of features is：8\n",
      "23、avg_price_last_12_month                       The number of types of features is：321\n",
      "24、avg_price_top_last_12_valid_month             The number of types of features is：20\n",
      "25、reg_preference_for_trad                       The number of types of features is：5\n",
      "26、trans_top_time_last_1_month                   The number of types of features is：28\n",
      "27、trans_top_time_last_6_month                   The number of types of features is：94\n",
      "28、consume_top_time_last_1_month                 The number of types of features is：28\n",
      "29、consume_top_time_last_6_month                 The number of types of features is：92\n",
      "30、cross_consume_count_last_1_month              The number of types of features is：19\n",
      "31、trans_fail_top_count_enum_last_1_month        The number of types of features is：15\n",
      "32、trans_fail_top_count_enum_last_6_month        The number of types of features is：25\n",
      "33、trans_fail_top_count_enum_last_12_month       The number of types of features is：26\n",
      "34、consume_mini_time_last_1_month                The number of types of features is：1843\n",
      "35、max_cumulative_consume_later_1_month          The number of types of features is：843\n",
      "36、max_consume_count_later_6_month               The number of types of features is：29\n",
      "37、railway_consume_count_last_12_month           The number of types of features is：6\n",
      "38、pawns_auctions_trusts_consume_last_1_month      The number of types of features is：561\n",
      "39、pawns_auctions_trusts_consume_last_6_month      The number of types of features is：2626\n",
      "40、jewelry_consume_count_last_6_month            The number of types of features is：7\n",
      "41、status                                        The number of types of features is：2\n",
      "42、first_transaction_day                         The number of types of features is：1655\n",
      "43、trans_day_last_12_month                       The number of types of features is：126\n",
      "44、apply_score                                   The number of types of features is：201\n",
      "45、apply_credibility                             The number of types of features is：41\n",
      "46、query_org_count                               The number of types of features is：46\n",
      "47、query_finance_count                           The number of types of features is：25\n",
      "48、query_cash_count                              The number of types of features is：17\n",
      "49、query_sum_count                               The number of types of features is：74\n",
      "50、latest_one_month_apply                        The number of types of features is：36\n",
      "51、latest_three_month_apply                      The number of types of features is：56\n",
      "52、latest_six_month_apply                        The number of types of features is：65\n",
      "53、loans_score                                   The number of types of features is：247\n",
      "54、loans_credibility_behavior                    The number of types of features is：25\n",
      "55、loans_count                                   The number of types of features is：134\n",
      "56、loans_settle_count                            The number of types of features is：123\n",
      "57、loans_overdue_count                           The number of types of features is：26\n",
      "58、loans_org_count_behavior                      The number of types of features is：41\n",
      "59、consfin_org_count_behavior                    The number of types of features is：19\n",
      "60、loans_cash_count                              The number of types of features is：32\n",
      "61、latest_one_month_loan                         The number of types of features is：14\n",
      "62、latest_three_month_loan                       The number of types of features is：31\n",
      "63、latest_six_month_loan                         The number of types of features is：67\n",
      "64、history_suc_fee                               The number of types of features is：171\n",
      "65、history_fail_fee                              The number of types of features is：151\n",
      "66、latest_one_month_suc                          The number of types of features is：19\n",
      "67、latest_one_month_fail                         The number of types of features is：41\n",
      "68、loans_long_time                               The number of types of features is：200\n",
      "69、loans_credit_limit                            The number of types of features is：54\n",
      "70、loans_credibility_limit                       The number of types of features is：33\n",
      "71、loans_org_count_current                       The number of types of features is：32\n",
      "72、loans_product_count                           The number of types of features is：32\n",
      "73、loans_max_limit                               The number of types of features is：91\n",
      "74、loans_avg_limit                               The number of types of features is：960\n",
      "75、consfin_credit_limit                          The number of types of features is：326\n",
      "76、consfin_credibility                           The number of types of features is：24\n",
      "77、consfin_org_count_current                     The number of types of features is：19\n",
      "78、consfin_product_count                         The number of types of features is：20\n",
      "79、consfin_max_limit                             The number of types of features is：174\n",
      "80、consfin_avg_limit                             The number of types of features is：1674\n",
      "81、latest_query_day                              The number of types of features is：208\n",
      "82、loans_latest_day                              The number of types of features is：234\n",
      "83、first_transaction_time_year                   The number of types of features is：8\n",
      "84、first_transaction_time_month                  The number of types of features is：12\n"
     ]
    }
   ],
   "source": [
    "data = pd.read_csv('./data/newdata.csv', encoding='gbk')\n",
    "for i,name in enumerate(data.columns):\n",
    "    name_sum = data[name].value_counts().shape[0]\n",
    "    print(\"{:2}、{:40}      The number of types of features is：{}\".format(i + 1, name, name_sum))"
   ]
  },
  {
   "cell_type": "code",
   "execution_count": 15,
   "metadata": {},
   "outputs": [
    {
     "data": {
      "text/plain": [
       "<matplotlib.axes._subplots.AxesSubplot at 0x23b75a82780>"
      ]
     },
     "execution_count": 15,
     "metadata": {},
     "output_type": "execute_result"
    },
    {
     "data": {
      "image/png": "[encoded data removed]",
      "text/plain": [
       "<Figure size 432x288 with 1 Axes>"
      ]
     },
     "metadata": {
      "needs_background": "light"
     },
     "output_type": "display_data"
    }
   ],
   "source": [
    "sns.boxplot(data = data, x = 'status', y = 'low_volume_percent', color = 'b')\n"
   ]
  },
  {
   "cell_type": "code",
   "execution_count": null,
   "metadata": {},
   "outputs": [],
   "source": []
  },
  {
   "cell_type": "markdown",
   "metadata": {},
   "source": [
    "------\n",
    "### 1&emsp;特征衍生\n",
    "\n",
    "特征衍生也称特征构建，是指从原始数据中构建新的特征，属于特征选择的一种手段。\n",
    "\n",
    "经过数据分析及数据预处理后得到基础特征后，一般可以采用如下几种方式进行特征衍生：\n",
    "\n",
    " - **特征拓展**\n",
    " \n",
    " - **合成特征**\n",
    " \n",
    " - **特征组合**\n",
    " \n",
    " - **特征交叉**\n",
    " \n",
    " \n",
    " 其中特征交叉属于特征组合的一个子集"
   ]
  },
  {
   "cell_type": "markdown",
   "metadata": {},
   "source": [
    "**1.1 特征拓展**\n"
   ]
  },
  {
   "cell_type": "code",
   "execution_count": null,
   "metadata": {},
   "outputs": [],
   "source": []
  }
 ],
 "metadata": {
  "kernelspec": {
   "display_name": "Python 3",
   "language": "python",
   "name": "python3"
  },
  "language_info": {
   "codemirror_mode": {
    "name": "ipython",
    "version": 3
   },
   "file_extension": ".py",
   "mimetype": "text/x-python",
   "name": "python",
   "nbconvert_exporter": "python",
   "pygments_lexer": "ipython3",
   "version": "3.7.3"
  }
 },
 "nbformat": 4,
 "nbformat_minor": 2
}
